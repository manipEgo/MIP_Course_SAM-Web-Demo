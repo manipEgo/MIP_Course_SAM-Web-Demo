{
 "cells": [
  {
   "cell_type": "code",
   "execution_count": 1,
   "metadata": {},
   "outputs": [],
   "source": [
    "from utils import *\n",
    "import os.path as path"
   ]
  },
  {
   "cell_type": "code",
   "execution_count": 2,
   "metadata": {},
   "outputs": [
    {
     "name": "stdout",
     "output_type": "stream",
     "text": [
      "['/home/mpyg/Documents/Codes/MIP_SAM/test_img', '/home/mpyg/Documents/Codes/MIP_SAM/test_img/sub_1', '/home/mpyg/Documents/Codes/MIP_SAM/test_img/sub_1/sub_2']\n"
     ]
    }
   ],
   "source": [
    "img_root = '/home/mpyg/Documents/Codes/MIP_SAM/test_img'\n",
    "dirs = list_dirs(img_root)\n",
    "print(dirs)"
   ]
  },
  {
   "cell_type": "code",
   "execution_count": 3,
   "metadata": {},
   "outputs": [],
   "source": [
    "save_root = '/home/mpyg/Documents/Codes/MIP_SAM/test_img/split'\n",
    "for dir in dirs:\n",
    "    for i, image in enumerate(read_imgs(dir)):\n",
    "        imgs = slide_win_cut_imgs(image, (224, 224), (9, 9))\n",
    "        save_imgs(imgs, save_root, 'img_' + str(i))"
   ]
  }
 ],
 "metadata": {
  "kernelspec": {
   "display_name": "sam",
   "language": "python",
   "name": "python3"
  },
  "language_info": {
   "codemirror_mode": {
    "name": "ipython",
    "version": 3
   },
   "file_extension": ".py",
   "mimetype": "text/x-python",
   "name": "python",
   "nbconvert_exporter": "python",
   "pygments_lexer": "ipython3",
   "version": "3.10.11"
  },
  "orig_nbformat": 4
 },
 "nbformat": 4,
 "nbformat_minor": 2
}
