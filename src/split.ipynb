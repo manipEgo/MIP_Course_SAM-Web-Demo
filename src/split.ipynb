{
 "cells": [
  {
   "cell_type": "code",
   "execution_count": 1,
   "metadata": {},
   "outputs": [],
   "source": [
    "from utils import *\n",
    "import os.path as path"
   ]
  },
  {
   "cell_type": "code",
   "execution_count": 2,
   "metadata": {},
   "outputs": [
    {
     "name": "stdout",
     "output_type": "stream",
     "text": [
      "['/home/mpyg/Documents/Codes/MIP_SAM/test_img', '/home/mpyg/Documents/Codes/MIP_SAM/test_img/split', '/home/mpyg/Documents/Codes/MIP_SAM/test_img/sub_1', '/home/mpyg/Documents/Codes/MIP_SAM/test_img/sub_1/sub_2']\n"
     ]
    }
   ],
   "source": [
    "img_root = '/home/mpyg/Documents/Codes/MIP_SAM/test_img'\n",
    "dirs = list_dirs(img_root)\n",
    "print(dirs)"
   ]
  },
  {
   "cell_type": "code",
   "execution_count": 3,
   "metadata": {},
   "outputs": [],
   "source": [
    "save_root = '/home/mpyg/Documents/Codes/MIP_SAM/test_img/split'\n",
    "for dir in dirs:\n",
    "    images, names = read_imgs(dir, (2048, 2048, 3))\n",
    "    for i in range(len(images)):\n",
    "        imgs = slide_win_cut_imgs(images[i], (224, 224), (9, 9))\n",
    "        save_imgs(imgs, save_root, names[i])"
   ]
  },
  {
   "cell_type": "code",
   "execution_count": 4,
   "metadata": {},
   "outputs": [
    {
     "name": "stdout",
     "output_type": "stream",
     "text": [
      "/home/mpyg/Documents/Codes/MIP_SAM\n"
     ]
    }
   ],
   "source": [
    "from backend.pipline import Pipeline\n",
    "\n",
    "file_path = os.getcwd()\n",
    "project_path = path.dirname(file_path)\n",
    "print(project_path)\n",
    "pipeline = Pipeline(path.join(project_path, \"model/sam_vit_h_4b8939.pth\"), \"vit_h\")"
   ]
  },
  {
   "cell_type": "code",
   "execution_count": 6,
   "metadata": {},
   "outputs": [],
   "source": [
    "import matplotlib.pyplot as plt\n",
    "\n",
    "sam_root = '/home/mpyg/Documents/Codes/MIP_SAM/test_img/samed'\n",
    "images, names = read_imgs(save_root, (224, 224, 3))\n",
    "for i in range(len(images)):\n",
    "    masks = pipeline.make_masks(images[i])\n",
    "    res = []\n",
    "    for mask in masks:\n",
    "        cov_img = np.zeros(images[i].shape, dtype=int)\n",
    "        cov_img[np.where(mask['segmentation'])] = images[i][np.where(mask['segmentation'])]\n",
    "        res.append(cov_img)\n",
    "    save_imgs(np.asarray(res), sam_root, names[i])\n"
   ]
  }
 ],
 "metadata": {
  "kernelspec": {
   "display_name": "sam",
   "language": "python",
   "name": "python3"
  },
  "language_info": {
   "codemirror_mode": {
    "name": "ipython",
    "version": 3
   },
   "file_extension": ".py",
   "mimetype": "text/x-python",
   "name": "python",
   "nbconvert_exporter": "python",
   "pygments_lexer": "ipython3",
   "version": "3.10.11"
  },
  "orig_nbformat": 4
 },
 "nbformat": 4,
 "nbformat_minor": 2
}
